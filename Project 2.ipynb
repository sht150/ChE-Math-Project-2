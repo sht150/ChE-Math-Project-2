{
 "cells": [
  {
   "cell_type": "code",
   "execution_count": 1,
   "id": "96e6b3eb",
   "metadata": {},
   "outputs": [],
   "source": [
    "import scipy\n",
    "import numpy as np\n",
    "import matplotlib.pyplot as plt\n",
    "import pandas as pd\n",
    "\n"
   ]
  },
  {
   "cell_type": "code",
   "execution_count": 3,
   "id": "f0b272c2",
   "metadata": {},
   "outputs": [
    {
     "data": {
      "text/html": [
       "<div>\n",
       "<style scoped>\n",
       "    .dataframe tbody tr th:only-of-type {\n",
       "        vertical-align: middle;\n",
       "    }\n",
       "\n",
       "    .dataframe tbody tr th {\n",
       "        vertical-align: top;\n",
       "    }\n",
       "\n",
       "    .dataframe thead th {\n",
       "        text-align: right;\n",
       "    }\n",
       "</style>\n",
       "<table border=\"1\" class=\"dataframe\">\n",
       "  <thead>\n",
       "    <tr style=\"text-align: right;\">\n",
       "      <th></th>\n",
       "      <th>H2: CO2</th>\n",
       "      <th>Mole fraction CO2</th>\n",
       "    </tr>\n",
       "  </thead>\n",
       "  <tbody>\n",
       "    <tr>\n",
       "      <th>0</th>\n",
       "      <td>2</td>\n",
       "      <td>0.35</td>\n",
       "    </tr>\n",
       "    <tr>\n",
       "      <th>1</th>\n",
       "      <td>3</td>\n",
       "      <td>0.24</td>\n",
       "    </tr>\n",
       "    <tr>\n",
       "      <th>2</th>\n",
       "      <td>4</td>\n",
       "      <td>0.18</td>\n",
       "    </tr>\n",
       "    <tr>\n",
       "      <th>3</th>\n",
       "      <td>5</td>\n",
       "      <td>0.17</td>\n",
       "    </tr>\n",
       "    <tr>\n",
       "      <th>4</th>\n",
       "      <td>6</td>\n",
       "      <td>0.13</td>\n",
       "    </tr>\n",
       "  </tbody>\n",
       "</table>\n",
       "</div>"
      ],
      "text/plain": [
       "   H2: CO2  Mole fraction CO2\n",
       "0        2               0.35\n",
       "1        3               0.24\n",
       "2        4               0.18\n",
       "3        5               0.17\n",
       "4        6               0.13"
      ]
     },
     "execution_count": 3,
     "metadata": {},
     "output_type": "execute_result"
    }
   ],
   "source": [
    "data_CO2=pd.read_csv(\"Figure panel 1_CO2 data.csv\", skiprows=0) #using data frames to read csv file\n",
    "data_CO2"
   ]
  },
  {
   "cell_type": "code",
   "execution_count": 5,
   "id": "f17bace2",
   "metadata": {},
   "outputs": [
    {
     "data": {
      "text/html": [
       "<div>\n",
       "<style scoped>\n",
       "    .dataframe tbody tr th:only-of-type {\n",
       "        vertical-align: middle;\n",
       "    }\n",
       "\n",
       "    .dataframe tbody tr th {\n",
       "        vertical-align: top;\n",
       "    }\n",
       "\n",
       "    .dataframe thead th {\n",
       "        text-align: right;\n",
       "    }\n",
       "</style>\n",
       "<table border=\"1\" class=\"dataframe\">\n",
       "  <thead>\n",
       "    <tr style=\"text-align: right;\">\n",
       "      <th></th>\n",
       "      <th>H2:CO2</th>\n",
       "      <th>Mole fraction CH3OH</th>\n",
       "    </tr>\n",
       "  </thead>\n",
       "  <tbody>\n",
       "    <tr>\n",
       "      <th>0</th>\n",
       "      <td>2</td>\n",
       "      <td>0.0080</td>\n",
       "    </tr>\n",
       "    <tr>\n",
       "      <th>1</th>\n",
       "      <td>3</td>\n",
       "      <td>0.0095</td>\n",
       "    </tr>\n",
       "    <tr>\n",
       "      <th>2</th>\n",
       "      <td>4</td>\n",
       "      <td>0.0098</td>\n",
       "    </tr>\n",
       "    <tr>\n",
       "      <th>3</th>\n",
       "      <td>5</td>\n",
       "      <td>0.0102</td>\n",
       "    </tr>\n",
       "    <tr>\n",
       "      <th>4</th>\n",
       "      <td>6</td>\n",
       "      <td>0.0102</td>\n",
       "    </tr>\n",
       "  </tbody>\n",
       "</table>\n",
       "</div>"
      ],
      "text/plain": [
       "   H2:CO2  Mole fraction CH3OH\n",
       "0       2               0.0080\n",
       "1       3               0.0095\n",
       "2       4               0.0098\n",
       "3       5               0.0102\n",
       "4       6               0.0102"
      ]
     },
     "execution_count": 5,
     "metadata": {},
     "output_type": "execute_result"
    }
   ],
   "source": [
    "data_CH3OH=pd.read_csv(\"Figure panel 2_CH3OH data.csv\", skiprows=0) #using data frames to read csv file\n",
    "data_CH3OH"
   ]
  },
  {
   "cell_type": "code",
   "execution_count": 6,
   "id": "4c9abeda",
   "metadata": {},
   "outputs": [
    {
     "data": {
      "text/html": [
       "<div>\n",
       "<style scoped>\n",
       "    .dataframe tbody tr th:only-of-type {\n",
       "        vertical-align: middle;\n",
       "    }\n",
       "\n",
       "    .dataframe tbody tr th {\n",
       "        vertical-align: top;\n",
       "    }\n",
       "\n",
       "    .dataframe thead th {\n",
       "        text-align: right;\n",
       "    }\n",
       "</style>\n",
       "<table border=\"1\" class=\"dataframe\">\n",
       "  <thead>\n",
       "    <tr style=\"text-align: right;\">\n",
       "      <th></th>\n",
       "      <th>H2:CO2</th>\n",
       "      <th>Mole fraction CO</th>\n",
       "    </tr>\n",
       "  </thead>\n",
       "  <tbody>\n",
       "    <tr>\n",
       "      <th>0</th>\n",
       "      <td>2</td>\n",
       "      <td>0.00412</td>\n",
       "    </tr>\n",
       "    <tr>\n",
       "      <th>1</th>\n",
       "      <td>3</td>\n",
       "      <td>0.00480</td>\n",
       "    </tr>\n",
       "    <tr>\n",
       "      <th>2</th>\n",
       "      <td>4</td>\n",
       "      <td>0.00480</td>\n",
       "    </tr>\n",
       "    <tr>\n",
       "      <th>3</th>\n",
       "      <td>5</td>\n",
       "      <td>0.00478</td>\n",
       "    </tr>\n",
       "    <tr>\n",
       "      <th>4</th>\n",
       "      <td>6</td>\n",
       "      <td>0.00470</td>\n",
       "    </tr>\n",
       "  </tbody>\n",
       "</table>\n",
       "</div>"
      ],
      "text/plain": [
       "   H2:CO2  Mole fraction CO\n",
       "0       2           0.00412\n",
       "1       3           0.00480\n",
       "2       4           0.00480\n",
       "3       5           0.00478\n",
       "4       6           0.00470"
      ]
     },
     "execution_count": 6,
     "metadata": {},
     "output_type": "execute_result"
    }
   ],
   "source": [
    "data_CO=pd.read_csv(\"Figure panel 2_CO data.csv\", skiprows=0) #using data frames to read csv file\n",
    "data_CO"
   ]
  },
  {
   "cell_type": "code",
   "execution_count": 8,
   "id": "af46939f",
   "metadata": {},
   "outputs": [
    {
     "data": {
      "text/html": [
       "<div>\n",
       "<style scoped>\n",
       "    .dataframe tbody tr th:only-of-type {\n",
       "        vertical-align: middle;\n",
       "    }\n",
       "\n",
       "    .dataframe tbody tr th {\n",
       "        vertical-align: top;\n",
       "    }\n",
       "\n",
       "    .dataframe thead th {\n",
       "        text-align: right;\n",
       "    }\n",
       "</style>\n",
       "<table border=\"1\" class=\"dataframe\">\n",
       "  <thead>\n",
       "    <tr style=\"text-align: right;\">\n",
       "      <th></th>\n",
       "      <th>H2:CO2</th>\n",
       "      <th>Mole fraction CH4</th>\n",
       "    </tr>\n",
       "  </thead>\n",
       "  <tbody>\n",
       "    <tr>\n",
       "      <th>0</th>\n",
       "      <td>2</td>\n",
       "      <td>0.000071</td>\n",
       "    </tr>\n",
       "    <tr>\n",
       "      <th>1</th>\n",
       "      <td>3</td>\n",
       "      <td>0.000090</td>\n",
       "    </tr>\n",
       "    <tr>\n",
       "      <th>2</th>\n",
       "      <td>4</td>\n",
       "      <td>0.000100</td>\n",
       "    </tr>\n",
       "    <tr>\n",
       "      <th>3</th>\n",
       "      <td>5</td>\n",
       "      <td>0.000111</td>\n",
       "    </tr>\n",
       "    <tr>\n",
       "      <th>4</th>\n",
       "      <td>6</td>\n",
       "      <td>0.000121</td>\n",
       "    </tr>\n",
       "  </tbody>\n",
       "</table>\n",
       "</div>"
      ],
      "text/plain": [
       "   H2:CO2  Mole fraction CH4\n",
       "0       2           0.000071\n",
       "1       3           0.000090\n",
       "2       4           0.000100\n",
       "3       5           0.000111\n",
       "4       6           0.000121"
      ]
     },
     "execution_count": 8,
     "metadata": {},
     "output_type": "execute_result"
    }
   ],
   "source": [
    "data_CH4=pd.read_csv(\"Figure panel 3_CH4.csv\", skiprows=0) #using data frames to read csv file\n",
    "data_CH4"
   ]
  },
  {
   "cell_type": "code",
   "execution_count": null,
   "id": "76727099",
   "metadata": {},
   "outputs": [],
   "source": [
    "T = 300 + 273.16 #K\n",
    "P = 40 * 10**5 #Pa\n",
    "WHSV = 9000 # mL/gcat/h\n",
    "R = 8.314 #\n",
    "#H2_CO2 = 3\n",
    "\n",
    "PCO2 = \n",
    "PH2 = \n",
    "PCO = \n",
    "PH2O = \n",
    "PCH3OH =\n",
    "PH2O =\n",
    "\n",
    "KCO2 = \n",
    "KH2 =\n",
    "Keq_MeOH = \n",
    "Keq_RWGS = \n",
    "Keq_CH4 =\n",
    "\n",
    "k1 =\n",
    "k2 =\n",
    "k3 ="
   ]
  },
  {
   "cell_type": "code",
   "execution_count": null,
   "id": "57121b07",
   "metadata": {},
   "outputs": [],
   "source": [
    "Inhibition_term = (1 + KCO2 * PCO2 + np.sqrt(KH2 * PH2))**2\n",
    "\n",
    "r_MeOH = (k1/PH2**2 * (PCO2 * PH2**3 - PCH3OH * PH2O / Keq_MeOH))/Inhibition_term\n",
    "\n",
    "r_RWGS = (k2/np.sqrt(PH2) * (PCO2 * PH2 - PCO * PH2O / Keq_RWGS))/Inhibition_term\n",
    "\n",
    "r_CH4 = (k3 * np.sqrt(PCO2) * np.sqrt(PH2)) * (1 - (PCH4 * PH2O**2 / PCO2 * PH2**4 * Keq_CH4))/Inhibition_term"
   ]
  }
 ],
 "metadata": {
  "kernelspec": {
   "display_name": "Python 3 (ipykernel)",
   "language": "python",
   "name": "python3"
  },
  "language_info": {
   "codemirror_mode": {
    "name": "ipython",
    "version": 3
   },
   "file_extension": ".py",
   "mimetype": "text/x-python",
   "name": "python",
   "nbconvert_exporter": "python",
   "pygments_lexer": "ipython3",
   "version": "3.10.6"
  }
 },
 "nbformat": 4,
 "nbformat_minor": 5
}
